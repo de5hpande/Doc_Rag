{
 "cells": [
  {
   "cell_type": "markdown",
   "metadata": {},
   "source": [
    "# config"
   ]
  },
  {
   "cell_type": "code",
   "execution_count": null,
   "metadata": {},
   "outputs": [],
   "source": [
    "from loguru import logger\n",
    "import sys\n",
    "import os\n",
    "from pathlib import Path\n",
    "\n",
    "class Config:\n",
    "    ALLOWED_FILE_EXTENSIONS = set([\".pdf\", \".md\", \".txt\"])\n",
    "    SEED = 42\n",
    "\n",
    "class Model:\n",
    "    NAME = \"deepseek-r1:14b\"\n",
    "    TEMPERATURE = 0.6\n",
    "\n",
    "class Preprocessing:\n",
    "    CHUNK_SIZE = 2048\n",
    "    CHUNK_OVERLAP = 128\n",
    "    EMBEDDING_MODEL = \"BAAI/bge-small-en-v1.5\"\n",
    "    RERANKER = \"ms-marco-MiniLM-L-12-v2\"\n",
    "    LLM = \"llama3.2\"\n",
    "    CONTEXTUALIZE_CHUNKS = True\n",
    "    N_SEMANTIC_RESULTS = 5\n",
    "    N_BM25_RESULTS = 5\n",
    "\n",
    "class Chatbot:\n",
    "    N_CONTEXT_RESULTS = 3\n",
    "\n",
    "class Path:\n",
    "    APP_HOME = Path(os.getenv(\"APP_HOME\", Path(__file__).parent.parent))\n",
    "    DATA_DIR = APP_HOME / \"data\"\n",
    "\n",
    "\n",
    "def configure_logging():\n",
    "    config = {\n",
    "        \"handlers\": [\n",
    "            {\n",
    "                \"sink\": sys.stdout, \n",
    "                \"colorize\": True,\n",
    "                \"format\": \"<green>{time:YYYY-MM-DD HH:mm:ss}</green> | <level>{level}</level> | {message}\",\n",
    "            },\n",
    "            {\n",
    "                \"sink\": \"app.log\",  # Log to a file as well\n",
    "                \"rotation\": \"10 MB\",  # Rotate log file when it reaches 10MB\n",
    "                \"compression\": \"zip\", # Compress old log files\n",
    "                \"format\": \"{time:YYYY-MM-DD HH:mm:ss} | {level} | {message}\",\n",
    "            },\n",
    "        ],\n",
    "        \"levels\": [\n",
    "            {\"name\": \"TRACE\", \"color\": \"<cyan>\"},\n",
    "            {\"name\": \"DEBUG\", \"color\": \"<blue>\"},\n",
    "            {\"name\": \"INFO\", \"color\": \"<green>\"},\n",
    "            {\"name\": \"WARNING\", \"color\": \"<yellow>\"},\n",
    "            {\"name\": \"ERROR\", \"color\": \"<red>\"},\n",
    "            {\"name\": \"CRITICAL\", \"color\": \"<BOLD><RED>\"},\n",
    "        ],\n",
    "    }\n",
    "\n",
    "    logger.configure(**config)\n",
    "\n",
    "# Example usage:\n",
    "configure_logging()\n",
    "\n",
    "logger.trace(\"This is a trace message.\")\n",
    "logger.debug(\"This is a debug message.\")\n",
    "logger.info(\"This is an info message.\")\n",
    "logger.warning(\"This is a warning message.\")\n",
    "logger.error(\"This is an error message.\")\n",
    "logger.critical(\"This is a critical message.\")\n",
    "\n",
    "try:\n",
    "    result = 10 / 0\n",
    "except ZeroDivisionError as e:\n",
    "    logger.exception(\"An exception occurred: {}\", e)"
   ]
  },
  {
   "cell_type": "code",
   "execution_count": 3,
   "metadata": {},
   "outputs": [
    {
     "name": "stdout",
     "output_type": "stream",
     "text": [
      "Biased Covariance: 191.20706528260865\n",
      "Unbiased Covariance: 191.20706528260865\n"
     ]
    }
   ],
   "source": [
    "import numpy as np\n",
    "\n",
    "Xs = np.array([0.0339, 0.0423, 0.213, 0.257, 0.273, 0.273, 0.450, 0.503, 0.503, \\\n",
    "0.637, 0.805, 0.904, 0.904, 0.910, 0.910, 1.02, 1.11, 1.11, 1.41, \\\n",
    "1.72, 2.03, 2.02, 2.02, 2.02])\n",
    "\n",
    "Ys = np.array([-19.3, 30.4, 38.7, 5.52, -33.1, -77.3, 398.0, 406.0, 436.0, 320.0, 373.0, \\\n",
    "93.9, 210.0, 423.0, 594.0, 829.0, 718.0, 561.0, 608.0, 1.04E3, 1.10E3, \\\n",
    "840.0, 801.0, 519.0])\n",
    "\n",
    "N = 24\n",
    "\n",
    "# Calculate the covariance (biased - dividing by N)\n",
    "covariance_biased = np.cov(Xs, Ys)[0, 1]  # [0, 1] gets the covariance from the matrix\n",
    "\n",
    "# Calculate the covariance (unbiased - dividing by N-1)\n",
    "covariance_unbiased = np.cov(Xs, Ys, ddof=1)[0, 1] # ddof=1 for unbiased\n",
    "\n",
    "print(\"Biased Covariance:\", covariance_biased)\n",
    "print(\"Unbiased Covariance:\", covariance_unbiased)"
   ]
  },
  {
   "cell_type": "code",
   "execution_count": null,
   "metadata": {},
   "outputs": [],
   "source": []
  }
 ],
 "metadata": {
  "kernelspec": {
   "display_name": "venv",
   "language": "python",
   "name": "python3"
  },
  "language_info": {
   "codemirror_mode": {
    "name": "ipython",
    "version": 3
   },
   "file_extension": ".py",
   "mimetype": "text/x-python",
   "name": "python",
   "nbconvert_exporter": "python",
   "pygments_lexer": "ipython3",
   "version": "3.12.0"
  }
 },
 "nbformat": 4,
 "nbformat_minor": 2
}
